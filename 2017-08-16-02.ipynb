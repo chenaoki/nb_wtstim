{
 "cells": [
  {
   "cell_type": "markdown",
   "metadata": {},
   "source": [
    "copied from 2017-07-27"
   ]
  },
  {
   "cell_type": "code",
   "execution_count": 1,
   "metadata": {
    "collapsed": true
   },
   "outputs": [],
   "source": [
    "import numpy as np\n",
    "import matplotlib.pyplot as plt\n",
    "import os\n",
    "import pandas as pd\n",
    "import pickle\n",
    "import copy\n",
    "import cv2\n",
    "import math\n",
    "from matplotlib import animation, rc\n",
    "from IPython.display import HTML\n",
    "%matplotlib inline"
   ]
  },
  {
   "cell_type": "code",
   "execution_count": 2,
   "metadata": {
    "collapsed": true
   },
   "outputs": [],
   "source": [
    "from mpl_toolkits.mplot3d import Axes3D"
   ]
  },
  {
   "cell_type": "code",
   "execution_count": 3,
   "metadata": {
    "collapsed": true
   },
   "outputs": [],
   "source": [
    "exp_dir = \"/mnt/recordings/ExperimentData/\"\n",
    "anl_dir = \"/mnt/recordings/AnalysisResult/Tomii/2017-07-19/\"\n",
    "\n",
    "df_path = anl_dir + \"pv_stim.csv\"\n"
   ]
  },
  {
   "cell_type": "code",
   "execution_count": 4,
   "metadata": {},
   "outputs": [
    {
     "name": "stdout",
     "output_type": "stream",
     "text": [
      "N: 37\n"
     ]
    }
   ],
   "source": [
    "df = pd.read_csv(df_path)\n",
    "print \"N:\",len(df)\n",
    "#df"
   ]
  },
  {
   "cell_type": "markdown",
   "metadata": {},
   "source": [
    "| ID | description |\n",
    "-|--\n",
    "| 0 | not-induced |\n",
    "| 1 | induced (not collided) |\n",
    "| 2 | induced (collided and terminated) |\n",
    "| 3 | induced (collided but sustained) |"
   ]
  },
  {
   "cell_type": "code",
   "execution_count": 10,
   "metadata": {},
   "outputs": [
    {
     "name": "stdout",
     "output_type": "stream",
     "text": [
      "0　20160907-3　6　3　7　3　2\n",
      "1　20160907-3　10　4　5　5　2\n",
      "2　20160907-3　11　2　7　4　2\n",
      "3　20160907-3　17　0　5　0　2\n",
      "4　20160907-3　22　1　5　5　2\n",
      "5　20161019-1　19　1　1　0　0\n",
      "6　20161019-2　6　4　2　1　0\n",
      "7　20161019-2　7　4　0　1　2\n",
      "8　20161019-2　8　4　6　2　2\n",
      "9　20161019-2　9　2　2　5　0\n",
      "10　20161019-2　10　4　7　1　2\n",
      "11　20161019-2　11　2　5　0　0\n",
      "12　20161019-2　12　5　5　2　0\n",
      "13　20161019-2　13　4　6　2　2\n",
      "14　20161019-2　14　5　7　1　2\n",
      "15　20161019-2　15　5　0　1　2\n",
      "16　20161019-2　16　5　0　1　2\n",
      "17　20161019-2　17　4　1　1　0\n",
      "18　20161019-2　18　5　1　1　0\n",
      "19　20161019-2　19　3　2　1　0\n",
      "20　20161019-2　20　2　3　2　0\n",
      "21　20161019-2　21　3　4　1　0\n",
      "22　20161019-2　22　4　4　0　0\n",
      "23　20161019-2　23　5　5　0　0\n",
      "24　20161019-2　24　5　5　0　0\n",
      "25　20161019-3　24　4　1　1　0\n",
      "26　20161019-3　25　4　1　3　0\n",
      "27　20161021-1　9　5　0　5　2\n",
      "28　20161021-1　10　1　6　2　1\n",
      "29　20161021-1　11　5　5　5　1\n",
      "30　20161021-1　12　4　7　4　1\n",
      "31　20161021-1　13　3　6　4　2\n",
      "32　20161021-1　14　3　4　4　2\n",
      "33　20161021-1　16　4　0　4　1\n",
      "34　20161021-2　10　3　0　4　2\n",
      "35　20161021-2　11　2　1　4　0\n",
      "36　20161021-2　12　1　1　4　0\n",
      "phi------------------\n",
      "0 1 5\n",
      "7 0 0\n",
      "3 0 0\n",
      "1 0 0\n",
      "2 0 1\n",
      "4 1 3\n",
      "0 1 3\n",
      "0 1 4\n",
      "theta------------------\n",
      "5 0 1\n",
      "6 0 5\n",
      "2 1 2\n",
      "1 0 1\n",
      "2 2 4\n",
      "1 1 3\n",
      "distance------------------\n",
      "0 0 1\n",
      "2 1 1\n",
      "4 0 1\n",
      "2 0 4\n",
      "5 2 5\n",
      "4 1 4\n"
     ]
    }
   ],
   "source": [
    "num_phi = 8\n",
    "num_theta = 6\n",
    "num_distance = 6\n",
    "\n",
    "num_category = 3\n",
    "\n",
    "count_phi          = np.zeros((num_phi, num_category), dtype=np.int8)\n",
    "count_theta      = np.zeros((num_theta, num_category), dtype=np.int8)\n",
    "count_distance = np.zeros((num_distance, num_category), dtype=np.int8)\n",
    "sessions = range(len(df))\n",
    "\n",
    "for i in sessions:\n",
    "    \n",
    "    s = df.loc[i,:]\n",
    "    #print s\n",
    "    #continue\n",
    "    \n",
    "    sample = s[\"sample\"]\n",
    "    session = s[\"session\"]\n",
    "    stim_phase = s[\"stim_phase\"]\n",
    "    stim_angle = s[\"stim_angle\"]\n",
    "    stim_distance = s[\"distance\"]\n",
    "    \n",
    "    sw_induced    = s[\"sw_induced\"]\n",
    "    sw_collision    = s[\"sw_collision\"]\n",
    "    sw_sustained = s[\"sw_sustained\"]\n",
    "    #i_category = 0 if not sw_induced else ( 1 if not sw_collision else (2 if not sw_sustained else 3))\n",
    "    i_category = 0 if not sw_induced else ( 1 if not sw_collision else 2 )\n",
    "    #i_category = 0 if not sw_induced else  1 \n",
    "    \n",
    "    s_phi          =  2*np.pi/num_phi\n",
    "    s_theta     = (np.pi/2)/num_theta\n",
    "    s_distance =  25.6/num_distance\n",
    "    \n",
    "    i_distance = int ( stim_distance / s_distance ) \n",
    "    i_phi = int( (stim_phase + np.pi ) / s_phi )\n",
    "    i_theta = int( (stim_angle ) / s_theta )\n",
    "    \n",
    "    print \"{0}　{1}　{2}　{3}　{4}　{5}　{6}\".format(\n",
    "        i, sample, session,\n",
    "        i_distance, i_phi, i_theta,\n",
    "        i_category\n",
    "    )\n",
    "\n",
    "    count_phi[ i_phi, i_category] += 1\n",
    "    count_theta[ i_theta, i_category] += 1\n",
    "    count_distance[ i_distance, i_category] += 1\n",
    "    \n",
    "    continue\n",
    "    \n",
    "print 'phi------------------'\n",
    "for i, dat in enumerate(count_phi):\n",
    "    #print i, \"{0:.3f}\".format(i*s_phi-np.pi), dat/float(np.sum(dat))\n",
    "    for d in dat: print d,\n",
    "    print\n",
    "print 'theta------------------'\n",
    "for i, dat in enumerate(count_theta):\n",
    "    #print i, \"{0:.3f}\".format(i*s_theta), dat/float(np.sum(dat))\n",
    "    for d in dat: print d,\n",
    "    print\n",
    "print 'distance------------------'\n",
    "for i, dat in enumerate(count_distance):\n",
    "    #print i, \"{0:.3f}\".format(i*s_distance), dat/float(np.sum(dat))\n",
    "    for d in dat: print d,\n",
    "    print\n"
   ]
  },
  {
   "cell_type": "code",
   "execution_count": null,
   "metadata": {
    "collapsed": true
   },
   "outputs": [],
   "source": []
  }
 ],
 "metadata": {
  "kernelspec": {
   "display_name": "Python 2",
   "language": "python",
   "name": "python2"
  },
  "language_info": {
   "codemirror_mode": {
    "name": "ipython",
    "version": 2
   },
   "file_extension": ".py",
   "mimetype": "text/x-python",
   "name": "python",
   "nbconvert_exporter": "python",
   "pygments_lexer": "ipython2",
   "version": "2.7.13"
  }
 },
 "nbformat": 4,
 "nbformat_minor": 2
}
